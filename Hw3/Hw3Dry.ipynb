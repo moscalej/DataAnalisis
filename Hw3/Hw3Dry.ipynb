{
 "cells": [
  {
   "cell_type": "markdown",
   "metadata": {},
   "source": [
    "# Hw3\n",
    "## Alejandro Moscoso 332336908\n",
    "## Shiraz benyatov 313592958"
   ]
  },
  {
   "cell_type": "code",
   "execution_count": 2,
   "metadata": {
    "collapsed": true
   },
   "outputs": [],
   "source": [
    "import pandas as pd\n",
    "import numpy as np\n"
   ]
  },
  {
   "cell_type": "code",
   "execution_count": 3,
   "metadata": {
    "collapsed": true
   },
   "outputs": [],
   "source": [
    "a = pd.DataFrame(dict(O= [8,4,11,9,11,17], E = [10 for i in range(6)]))\n",
    "a['(O-E)**2/E']= ((a['O']-a['E'])**2)/a['E']"
   ]
  },
  {
   "cell_type": "code",
   "execution_count": 4,
   "metadata": {},
   "outputs": [
    {
     "data": {
      "text/plain": [
       "9.2"
      ]
     },
     "execution_count": 4,
     "metadata": {},
     "output_type": "execute_result"
    }
   ],
   "source": [
    "a['(O-E)**2/E'].sum()"
   ]
  },
  {
   "cell_type": "markdown",
   "metadata": {},
   "source": [
    "$Chi^2$ = 9.2\n",
    "From the table we have get that for 5 degrees of freedon and α  = 0.01 $\\chi^2$ = 15\n",
    "\n",
    "we accept\n",
    "\n",
    "From the table we have get that for 5 degrees of freedon and α  = 0.05 $\\chi^2$ = 11.07\n",
    "\n",
    "we accept\n",
    "\n",
    "From the table we have get that for 5 degrees $\\chi^2$ = 9.2 we got a $P_(value)$\n",
    "= 0.0101 witch is bigger than > $\\alpha_i$ and $\\alpha_(ii)$"
   ]
  },
  {
   "cell_type": "code",
   "execution_count": 5,
   "metadata": {
    "collapsed": true
   },
   "outputs": [],
   "source": [
    "#log likelihood chi Sqare"
   ]
  },
  {
   "cell_type": "code",
   "execution_count": 6,
   "metadata": {
    "collapsed": true
   },
   "outputs": [],
   "source": [
    "a['log']= a['O']*np.log(a['O']/a['E'])"
   ]
  },
  {
   "cell_type": "code",
   "execution_count": 7,
   "metadata": {},
   "outputs": [
    {
     "data": {
      "text/html": [
       "<div>\n",
       "<style>\n",
       "    .dataframe thead tr:only-child th {\n",
       "        text-align: right;\n",
       "    }\n",
       "\n",
       "    .dataframe thead th {\n",
       "        text-align: left;\n",
       "    }\n",
       "\n",
       "    .dataframe tbody tr th {\n",
       "        vertical-align: top;\n",
       "    }\n",
       "</style>\n",
       "<table border=\"1\" class=\"dataframe\">\n",
       "  <thead>\n",
       "    <tr style=\"text-align: right;\">\n",
       "      <th></th>\n",
       "      <th>E</th>\n",
       "      <th>O</th>\n",
       "      <th>(O-E)**2/E</th>\n",
       "      <th>log</th>\n",
       "    </tr>\n",
       "  </thead>\n",
       "  <tbody>\n",
       "    <tr>\n",
       "      <th>0</th>\n",
       "      <td>10</td>\n",
       "      <td>8</td>\n",
       "      <td>0.4</td>\n",
       "      <td>-1.785148</td>\n",
       "    </tr>\n",
       "    <tr>\n",
       "      <th>1</th>\n",
       "      <td>10</td>\n",
       "      <td>4</td>\n",
       "      <td>3.6</td>\n",
       "      <td>-3.665163</td>\n",
       "    </tr>\n",
       "    <tr>\n",
       "      <th>2</th>\n",
       "      <td>10</td>\n",
       "      <td>11</td>\n",
       "      <td>0.1</td>\n",
       "      <td>1.048412</td>\n",
       "    </tr>\n",
       "    <tr>\n",
       "      <th>3</th>\n",
       "      <td>10</td>\n",
       "      <td>9</td>\n",
       "      <td>0.1</td>\n",
       "      <td>-0.948245</td>\n",
       "    </tr>\n",
       "    <tr>\n",
       "      <th>4</th>\n",
       "      <td>10</td>\n",
       "      <td>11</td>\n",
       "      <td>0.1</td>\n",
       "      <td>1.048412</td>\n",
       "    </tr>\n",
       "    <tr>\n",
       "      <th>5</th>\n",
       "      <td>10</td>\n",
       "      <td>17</td>\n",
       "      <td>4.9</td>\n",
       "      <td>9.020680</td>\n",
       "    </tr>\n",
       "  </tbody>\n",
       "</table>\n",
       "</div>"
      ],
      "text/plain": [
       "    E   O  (O-E)**2/E       log\n",
       "0  10   8         0.4 -1.785148\n",
       "1  10   4         3.6 -3.665163\n",
       "2  10  11         0.1  1.048412\n",
       "3  10   9         0.1 -0.948245\n",
       "4  10  11         0.1  1.048412\n",
       "5  10  17         4.9  9.020680"
      ]
     },
     "execution_count": 7,
     "metadata": {},
     "output_type": "execute_result"
    }
   ],
   "source": [
    "a"
   ]
  },
  {
   "cell_type": "code",
   "execution_count": 8,
   "metadata": {},
   "outputs": [
    {
     "data": {
      "text/plain": [
       "9.43789648964262"
      ]
     },
     "execution_count": 8,
     "metadata": {},
     "output_type": "execute_result"
    }
   ],
   "source": [
    "a['log'].sum()*2"
   ]
  },
  {
   "cell_type": "markdown",
   "metadata": {},
   "source": [
    "we got $\\gamma (x_n) = 9.43$ given that $\\gamma (x_n) < 15.086  and  11.07$ we will accept for the two levels and  \n",
    "\n",
    "$p_value = 0.092 $ witch is bigger than $\\alpha_i $ and $\\alpha_[ii]$\n",
    "\n",
    "now we will do the same with 600"
   ]
  },
  {
   "cell_type": "code",
   "execution_count": 9,
   "metadata": {},
   "outputs": [
    {
     "data": {
      "text/plain": [
       "92.0"
      ]
     },
     "execution_count": 9,
     "metadata": {},
     "output_type": "execute_result"
    }
   ],
   "source": [
    "b = pd.DataFrame(dict(O= [80,40,110,90,110,170], E = [100 for i in range(6)]))\n",
    "b['(O-E)**2/E']= ((b['O']-b['E'])**2)/b['E']\n",
    "b['(O-E)**2/E'].sum()\n"
   ]
  },
  {
   "cell_type": "code",
   "execution_count": 10,
   "metadata": {},
   "outputs": [
    {
     "data": {
      "text/plain": [
       "9.43789648964262"
      ]
     },
     "execution_count": 10,
     "metadata": {},
     "output_type": "execute_result"
    }
   ],
   "source": [
    "b['log']= a['O']*np.log(b['O']/b['E'])\n",
    "b['log'].sum()*2"
   ]
  },
  {
   "cell_type": "markdown",
   "metadata": {},
   "source": [
    "$Chi^2$ = 92\n",
    "From the table we have get that for 5 degrees of freedon and α  = 0.01 $\\chi^2$ = 15\n",
    "\n",
    "**no accept**\n",
    "\n",
    "From the table we have get that for 5 degrees of freedon and α  = 0.05 $\\chi^2$ = 11.07\n",
    "\n",
    "**no accept**\n",
    "\n",
    "From the table we have get that for 5 degrees $\\chi^2$ = 9.2 we got a $P_(value)$\n",
    "<<1  \n",
    "\n",
    "## question 3\n",
    "### (a)\n",
    "\n",
    "let $x_1, x_2, x_3,  .. x_n ~~Poision(\\gamma)$  \n",
    "Let $\\gamma_0~ > ~0 $ . find the size$\\alpha$ for : $ H_0:\\gamma -> \\gamma_0$ versus $ H_1:\\gamma \\neq \\gamma_0$\n",
    "\n",
    "reject $H_0 : | \\frac{\\bar{\\gamma} - \\gamma_0}{se} | > z_{\\alpha/2}$\n",
    "\n",
    "$$ \\hat{\\gamma} = \\frac{1}{n} \\sum X_i =\\bar{x_n} ~~~~  \n",
    "se = \\frac{\\sigma^2}{n^{0.5}} =  \\frac{\\gamma}{n}$$ \n",
    "\n",
    "$$ if  \\frac{\\bar{\\gamma} - \\gamma_0}{se} \\sim N(0,1),\n",
    "~ P(| \\frac{\\bar{\\gamma} - \\gamma_0}{se} | > z_{\\alpha /2}) = 1-\\alpha $$\n",
    "\n",
    "### (b) \n",
    "Python Code Let λ0 = 1, n = 20, α = 0.05. Simulate X1,..,Xn ∼ Poisson(λ0), perform the Wald test and repeat many times and count how often you reject the null-hypothesis. How close is the type-1 error rate to α?"
   ]
  },
  {
   "cell_type": "code",
   "execution_count": 17,
   "metadata": {},
   "outputs": [
    {
     "name": "stdout",
     "output_type": "stream",
     "text": [
      " Total nnumber of errors: 5468 in 100000 repetition\n"
     ]
    }
   ],
   "source": [
    "import scipy.stats as sp\n",
    "\n",
    "Lambda = 1.\n",
    "N = 20\n",
    "alpha = 0.05\n",
    "Errors = 0\n",
    "Interval = sp.norm.interval(1-alpha)\n",
    "se = np.sqrt(Lambda/N)\n",
    "for i in range(100000):\n",
    "    X = np.random.poisson(Lambda, N)\n",
    "    if (abs(X.mean()-Lambda)/se>Interval[1]):\n",
    "        Errors = Errors+1\n",
    "\n",
    "print(f' Total nnumber of errors: {Errors} in {i+1} repetition' )"
   ]
  },
  {
   "cell_type": "code",
   "execution_count": null,
   "metadata": {
    "collapsed": true
   },
   "outputs": [],
   "source": []
  },
  {
   "cell_type": "code",
   "execution_count": null,
   "metadata": {
    "collapsed": true
   },
   "outputs": [],
   "source": []
  }
 ],
 "metadata": {
  "kernelspec": {
   "display_name": "Python 3",
   "language": "python",
   "name": "python3"
  },
  "language_info": {
   "codemirror_mode": {
    "name": "ipython",
    "version": 3
   },
   "file_extension": ".py",
   "mimetype": "text/x-python",
   "name": "python",
   "nbconvert_exporter": "python",
   "pygments_lexer": "ipython3",
   "version": "3.6.3"
  }
 },
 "nbformat": 4,
 "nbformat_minor": 2
}
