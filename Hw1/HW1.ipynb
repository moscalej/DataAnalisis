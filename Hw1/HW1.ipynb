{
 "cells": [
  {
   "cell_type": "markdown",
   "metadata": {},
   "source": [
    "# Hw1 Alejandro Moscoso and "
   ]
  },
  {
   "cell_type": "code",
   "execution_count": 2,
   "metadata": {},
   "outputs": [],
   "source": [
    "import numpy as np\n",
    "import matplotlib.pyplot as plt\n",
    "from pprint import pprint\n",
    "import csv\n",
    "import ast\n",
    "file_path =      r'D:\\Ale\\Documents\\Technion\\DataAnalisis\\Homework\\Hw1\\airports.txt'\n",
    "file_path_route =r'D:\\Ale\\Documents\\Technion\\DataAnalisis\\Homework\\Hw1\\routes.txt'"
   ]
  },
  {
   "cell_type": "markdown",
   "metadata": {},
   "source": [
    "# Basic Python 0\n",
    "1. Draw N random iid samples from a 1D Gaussian distribution with mean = 0 sigma = 1(You can use numpy.random library).\n",
    "2. Calculate the empirical mean of the random samples.\n",
    "3. Plot the difference between the empirical mean and the true mean as a function of N.\n",
    "4. On the same figure, add (you can use error bar function) the standard deviation of the empirical mean.\n",
    "\n",
    "\n",
    "\n"
   ]
  },
  {
   "cell_type": "code",
   "execution_count": 3,
   "metadata": {},
   "outputs": [
    {
     "name": "stdout",
     "output_type": "stream",
     "text": [
      "Empirical Standard deviation: 1.0174051169\nEmpirical mean: 0.00233044482704 at N = 10000\n"
     ]
    },
    {
     "data": {
      "image/png": "[encoded data removed]",
      "text/plain": [
       "<matplotlib.figure.Figure at 0x9e11e10>"
      ]
     },
     "metadata": {},
     "output_type": "display_data"
    }
   ],
   "source": [
    "N=10000 # Given the N number we build a vector of N randon number taken from a gaussian distribution \n",
    "np.random.seed=900\n",
    "sumN =np.random.normal(0,1,N)\n",
    "print ('Empirical Standard deviation: {std}'.format(std= np.std(sumN))) # <- empirical Standard deviation \n",
    "print ('Empirical mean: {mean} at N = {num}'.format( mean=np.mean(sumN), num =N)) # <- empirical mean \n",
    "plt.figure()\n",
    "x = np.arange(1, N,1);\n",
    "y = [np.mean(np.random.normal(0,1,number)) for number in x] \n",
    "y2 = [0  for _ in x]\n",
    "plt.plot(x, y,x,y2)\n",
    "plt.show()\n"
   ]
  },
  {
   "cell_type": "markdown",
   "metadata": {},
   "source": [
    "# Basic Python 1\n",
    "1. Load the 'airports.txt' file that is found in the course website, and print the first line.\n",
    "2. Print all airport names of a specific country you chose.\n",
    "3. Write a program that counts the number of airports in each country.\n"
   ]
  },
  {
   "cell_type": "code",
   "execution_count": 10,
   "metadata": {
    "scrolled": false
   },
   "outputs": [
    {
     "name": "stdout",
     "output_type": "stream",
     "text": [
      "Fhe first line in airports is:\n'1,\"Goroka\",\"Goroka\",\"Papua New Guinea\",\"GKA\",\"AYGA\",-6.081689,145.391881,5282,10,\"U\",\"Pacific/Port_Moresby\"\\n'\nQuestion 2 We only print 3 to keep it short on the answer, we use the country Canada\n['\"Winnipeg\"', '\"Halifax\"', '\"St. Anthony\"']\nQuestion 3 we print only the head \n"
     ]
    },
    {
     "name": "stdout",
     "output_type": "stream",
     "text": [
      "{'Canada': 435, 'East Timor': 3, 'Sao Tome and Principe': 2, 'Turkmenistan': 8, 'Saint Helena': 1, 'Lithuania': 8, 'Cambodia': 13, 'Ethiopia': 32, 'Aruba': 1, 'Guernsey': 2}\n"
     ]
    }
   ],
   "source": [
    "# Num 1 print the furst line\n",
    "with open(file_path, 'r') as f:\n",
    "    a=f.readlines()\n",
    "\n",
    "#Functions for Number 2\n",
    "def print_airports_by_country(country):\n",
    "    airports =[]\n",
    "    with open(file_path, 'r') as f:\n",
    "        a=f.readlines()\n",
    "    f.close()\n",
    "    for line in a:\n",
    "        if country in line:\n",
    "            airports.append(line.split(',')[2])#\n",
    "    return airports\n",
    "\n",
    "#This function will build a dictionary with all Basic datha from csv\n",
    "def dict_airports(path):\n",
    "    colum_names =['Name', 'City', 'Country', 'IATA', 'ICAO', 'Latitude', 'Longitude', 'Altitude', 'Timezone', 'DST', 'Tz', 'Source']\n",
    "    number_keys =['Latitude', 'Longitude', 'Altitude', 'Timezone' ]\n",
    "    airports ={}\n",
    "    with open(file_path, 'r') as f:\n",
    "        a=csv.reader(f)\n",
    "        list1=[line for line in a]\n",
    "    for line in list1:\n",
    "        string_dict=dict(zip(colum_names, line[1:]))\n",
    "        for keys in number_keys:\n",
    "            string_dict[keys] = ast.literal_eval(string_dict[keys])\n",
    "        airports.update({line[0]:string_dict})\n",
    "        result  =airports.copy()\n",
    "    return result\n",
    "\n",
    "def count_airport(dAirports): # this method will return a dictionary with the number of airports for each country\n",
    "    dCountriesNum={}\n",
    "    for values in dAirports.values():     \n",
    "        dCountriesNum[values['Country']] = dCountriesNum[values['Country']]+ 1 if values['Country'] in dCountriesNum.keys() else 1\n",
    "    return dCountriesNum\n",
    "\n",
    "print ('Fhe first line in airports is:')\n",
    "pprint (a[0]) \n",
    "print ('Question 2 We only print 3 to keep it short on the answer, we use the country Canada')\n",
    "pprint(print_airports_by_country('Canada')[1:4]) #2 We only print 3 to keep it short on the answers\n",
    "print ('Question 3 we print only the head ')\n",
    "\n",
    "print(dict(list(count_airport(dict_airports(file_path)).items())[0:10])) #this is the program for #3 #todo Cheack with python2.7"
   ]
  },
  {
   "cell_type": "markdown",
   "metadata": {},
   "source": [
    "# Basic Python 2\n",
    "1. Download the routes data (https://open\n",
    "ights.org/data.html). This database\n",
    "stores every unique \n",
    "ight route that OpenFlights knows about. Take a\n",
    "moment to look at the fields available in the routes data (listed on the\n",
    "OpenFlights page).\n",
    "2. Use both data sources and calculate the length of each route. Plot a his-\n",
    "togram showing the distribution of distances \n",
    "own, following these guide-\n",
    "lines:\n",
    "2\n",
    "Data Analysis 046193 EE, Technion 2017-18\n",
    "fi Read the airports file (airports.txt) and build a dictionary mapping\n",
    "the unique airport ID to the geographical coordinates (latitude and\n",
    "longitude.) This allows you to look up the location of each airport\n",
    "by its ID.\n",
    "\u000f Read the routes file (routes.dat) and get the IDs of the source and\n",
    "destination airports. Look up the latitude and longitude based on\n",
    "the ID. Using those coordinates, calculate the length of the route\n",
    "(using geo distance.py) and append it to a list of all route lengths.\n",
    "\u000f Plot a histogram based on the route lengths, to show the distribution\n",
    "of different \n",
    "ight distances.\n",
    "3"
   ]
  },
  {
   "cell_type": "code",
   "execution_count": 11,
   "metadata": {},
   "outputs": [],
   "source": [
    "#build a dictionary for the reoutes\n",
    "def dict_routes(file_path):\n",
    "    colums_names = ['Airline','AirlineID','SourceAirport','SourceAirportID','DestinationAirport',\n",
    "                    'DestinationAirportId','Codeshare','Stops','Equippment']\n",
    "    with open(file_path, 'r') as f:\n",
    "        a=csv.reader(f)\n",
    "        routs=[dict(zip(colums_names, line)) for line in a]\n",
    "    return routs\n",
    "     "
   ]
  },
  {
   "cell_type": "code",
   "execution_count": 12,
   "metadata": {},
   "outputs": [],
   "source": [
    "from math import cos,radians,sin,pow,asin,sqrt\n",
    "\n",
    "def distance(lat1, long1, lat2, long2):\n",
    "    radius = 6371 # radius of the earth in km, roughly https://en.wikipedia.org/wiki/Earth_radius\n",
    "\n",
    "    # Lat,long are in degrees but we need radians\n",
    "    lat1 = radians(lat1)\n",
    "    lat2 = radians(lat2)\n",
    "    long1 = radians(long1)\n",
    "    long2 = radians(long2)\n",
    "\n",
    "    dlat = lat2-lat1\n",
    "    dlon = long2-long1\n",
    "\n",
    "    a = pow(sin(dlat/2),2) + cos(lat1)*cos(lat2)*pow(sin(dlon/2),2)\n",
    "    distance = 2 * radius * asin(sqrt(a))\n",
    "\n",
    "    return distance"
   ]
  },
  {
   "cell_type": "code",
   "execution_count": 15,
   "metadata": {},
   "outputs": [],
   "source": [
    "\n",
    "def add_distance_to_route(file_path_route, file_path_airport):\n",
    "    airports = dict_airports(file_path_airport)\n",
    "    routes = dict_routes(file_path_route)\n",
    "    for route in routes:\n",
    "        # cord = [ Longitude , Latitude]\n",
    "        # some there could be some key errors bad codes or missing data for this reason we just use the available data\n",
    "        try: \n",
    "            dest_cord = [airports[route['DestinationAirportId']]['Longitude'],airports[route['DestinationAirportId']] ['Latitude']]\n",
    "            source_cord = [airports[route['SourceAirportID']]['Longitude'],airports[route['SourceAirportID']] ['Latitude']]\n",
    "        except KeyError:\n",
    "            continue\n",
    "        route.update(dict(Distance = distance(dest_cord[1],dest_cord[0],source_cord[1],source_cord[0])))\n",
    "    return routes\n"
   ]
  },
  {
   "cell_type": "code",
   "execution_count": 9,
   "metadata": {},
   "outputs": [
    {
     "data": {
      "image/png": "[encoded data removed]",
      "text/plain": [
       "<matplotlib.figure.Figure at 0x9c77a20>"
      ]
     },
     "metadata": {},
     "output_type": "display_data"
    }
   ],
   "source": [
    "\n",
    "list_distance =[]\n",
    "for value in add_distance_to_route(file_path_route,file_path):\n",
    "    try:\n",
    "        list_distance.append(value['Distance'])\n",
    "    except KeyError:\n",
    "        continue\n",
    "a = np.array(list_distance)\n",
    "plt.figure()\n",
    "plt.hist(a,bins=100)\n",
    "plt.title('Distance Distributiun')\n",
    "plt.xlabel(\"Distance\")\n",
    "plt.ylabel(\"frequency\")\n",
    "plt.show()\n",
    "\n"
   ]
  },
  {
   "cell_type": "code",
   "execution_count": null,
   "metadata": {},
   "outputs": [],
   "source": []
  }
 ],
 "metadata": {
  "kernelspec": {
   "display_name": "Python 3",
   "language": "python",
   "name": "python3"
  },
  "language_info": {
   "codemirror_mode": {
    "name": "ipython",
    "version": 3
   },
   "file_extension": ".py",
   "mimetype": "text/x-python",
   "name": "python",
   "nbconvert_exporter": "python",
   "pygments_lexer": "ipython3",
   "version": "3.6.3"
  }
 },
 "nbformat": 4,
 "nbformat_minor": 1
}
