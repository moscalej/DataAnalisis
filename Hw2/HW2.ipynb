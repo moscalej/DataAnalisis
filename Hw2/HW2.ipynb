{
 "cells": [
  {
   "cell_type": "markdown",
   "metadata": {
    "collapsed": true
   },
   "source": [
    "# Home Work 2 \n",
    "## Alejandro Moscoso 332336908\n",
    "## \n",
    "\n",
    "Generate 100 samples from a N(0, 1) distribution. Compute a 95% CI for the CDF. Repeat this 1000 \n",
    "times and compute the percentage of time\n",
    "that the interval contained the CDF. In addition plot in a single figure the\n",
    "true CDF the best and the worst experiment (use maxx|F(x) − Fˆ\n",
    "n(x)| as\n",
    "quality measure)."
   ]
  },
  {
   "cell_type": "code",
   "execution_count": 1,
   "metadata": {},
   "outputs": [
    {
     "name": "stdout",
     "output_type": "stream",
     "text": [
      "D:\\Ale\\Documents\\Technion\\DataAnalisis\\Homework\\DataAnalisis\\Homework\\DataAnalisis\\Hw2\\samsungData.csv\n"
     ]
    }
   ],
   "source": [
    "import numpy as np\n",
    "import pandas as pd\n",
    "import matplotlib.pyplot as plt\n",
    "import matplotlib\n",
    "import scipy.stats as stats\n",
    "import seaborn as sb\n",
    "from pprint import pprint\n",
    "sb.set_style('whitegrid')\n",
    "matplotlib.rcParams.update({'font.size': 22,'figure.figsize':[12, 12.0]})\n",
    "import os\n",
    "os.getcwd()\n",
    "hw2_path= r'\\Homework\\DataAnalisis\\Hw2'\n",
    "samsumn= os.getcwd()+hw2_path+r'\\samsungData.csv'\n",
    "print (samsumn)"
   ]
  },
  {
   "cell_type": "markdown",
   "metadata": {},
   "source": [
    "\n"
   ]
  },
  {
   "cell_type": "code",
   "execution_count": 4,
   "metadata": {},
   "outputs": [
    {
     "name": "stdout",
     "output_type": "stream",
     "text": [
      "0.968\n"
     ]
    }
   ],
   "source": [
    "\n",
    "N=100\n",
    "data = np.random.randn(N)\n",
    "miu= 0\n",
    "var = 1/N\n",
    "\n",
    "def ecdf(data):\n",
    "    xs= np.sort(data)\n",
    "    ys=np.arange(1,len(xs)+1)/float(len(xs))\n",
    "    return xs , ys\n",
    "\n",
    "def DKW_95(data):\n",
    "    sample_size = len(data)\n",
    "    error = np.sqrt((-1)*np.log(0.025)/(2*sample_size))\n",
    "    return error\n",
    "\n",
    "def max_cdfdi_diference(data):\n",
    "    real_cdf=stats.norm.cdf(np.sort(data))\n",
    "    empiri_cdf = ecdf(data)[1]\n",
    "    return np.max(np.absolute(real_cdf - empiri_cdf))\n",
    "\n",
    "def critical_95(data,standar_dev):\n",
    "    sample_size= len(data)\n",
    "    z_critical = stats.norm.ppf(q = 0.975)\n",
    "    margin_of_error = z_critical * (standar_dev/np.sqrt(sample_size))\n",
    "    sample_mean = np.mean(data)\n",
    "    return (sample_mean - margin_of_error, sample_mean + margin_of_error)\n",
    "\n",
    "def question_1(sample_sise, repetitions):\n",
    "    miu= 0\n",
    "    var = 1/N\n",
    "    hit_times =0\n",
    "    max_error_bigger=0\n",
    "    best_match=8\n",
    "    \n",
    "    data_plot={'real':pd.Series(stats.norm.cdf(np.arange(-3,3,0.1)),np.arange(-3,3,0.1))}\n",
    "    \n",
    "    \n",
    "    for _ in range(repetitions):\n",
    "        data = np.random.randn(N)\n",
    "        max_error = DKW_95(data)\n",
    "        \n",
    "        real_error = max_cdfdi_diference(data)\n",
    "        if (max_error>= real_error):\n",
    "            hit_times += 1\n",
    "            \n",
    "        if (max_error_bigger<real_error):\n",
    "            max_error_bigger=real_error\n",
    "            data_plot['worst']= pd.Series(ecdf(data))\n",
    "            \n",
    "        if (real_error<best_match):\n",
    "            best_match=real_error\n",
    "            data_plot['best']=pd.Series( ecdf(data))\n",
    "    data_plot['hit_rate'] = hit_times/float(repetitions)\n",
    "    return data_plot\n",
    "data_plot = question_1(100,1000)\n",
    "plt.figure()\n",
    "plt.plot(data_plot['real'])\n",
    "plt.plot(data_plot['best'][0],data_plot['best'][1])\n",
    "plt.plot(data_plot['worst'][0],data_plot['worst'][1])\n",
    "print (data_plot['hit_rate'])\n",
    "plt.show()"
   ]
  },
  {
   "cell_type": "code",
   "execution_count": 5,
   "metadata": {},
   "outputs": [
    {
     "ename": "IOError",
     "evalue": "File samsungData.csv does not exist",
     "traceback": [
      "\u001b[1;31m\u001b[0m",
      "\u001b[1;31mIOError\u001b[0mTraceback (most recent call last)",
      "\u001b[1;32m<ipython-input-5-7f99c653969a>\u001b[0m in \u001b[0;36m<module>\u001b[1;34m()\u001b[0m\n\u001b[1;32m----> 1\u001b[1;33m \u001b[0mdf\u001b[0m\u001b[1;33m=\u001b[0m\u001b[0mpd\u001b[0m\u001b[1;33m.\u001b[0m\u001b[0mread_csv\u001b[0m\u001b[1;33m(\u001b[0m\u001b[1;34m'samsungData.csv'\u001b[0m\u001b[1;33m)\u001b[0m\u001b[1;33m\u001b[0m\u001b[0m\n\u001b[0m",
      "\u001b[1;32mC:\\Users\\alejandro\\Anaconda3\\envs\\DataAnalisis\\lib\\site-packages\\pandas\\io\\parsers.pyc\u001b[0m in \u001b[0;36mparser_f\u001b[1;34m(filepath_or_buffer, sep, delimiter, header, names, index_col, usecols, squeeze, prefix, mangle_dupe_cols, dtype, engine, converters, true_values, false_values, skipinitialspace, skiprows, nrows, na_values, keep_default_na, na_filter, verbose, skip_blank_lines, parse_dates, infer_datetime_format, keep_date_col, date_parser, dayfirst, iterator, chunksize, compression, thousands, decimal, lineterminator, quotechar, quoting, escapechar, comment, encoding, dialect, tupleize_cols, error_bad_lines, warn_bad_lines, skipfooter, skip_footer, doublequote, delim_whitespace, as_recarray, compact_ints, use_unsigned, low_memory, buffer_lines, memory_map, float_precision)\u001b[0m\n\u001b[0;32m    703\u001b[0m                     skip_blank_lines=skip_blank_lines)\n\u001b[0;32m    704\u001b[0m \u001b[1;33m\u001b[0m\u001b[0m\n\u001b[1;32m--> 705\u001b[1;33m         \u001b[1;32mreturn\u001b[0m \u001b[0m_read\u001b[0m\u001b[1;33m(\u001b[0m\u001b[0mfilepath_or_buffer\u001b[0m\u001b[1;33m,\u001b[0m \u001b[0mkwds\u001b[0m\u001b[1;33m)\u001b[0m\u001b[1;33m\u001b[0m\u001b[0m\n\u001b[0m\u001b[0;32m    706\u001b[0m \u001b[1;33m\u001b[0m\u001b[0m\n\u001b[0;32m    707\u001b[0m     \u001b[0mparser_f\u001b[0m\u001b[1;33m.\u001b[0m\u001b[0m__name__\u001b[0m \u001b[1;33m=\u001b[0m \u001b[0mname\u001b[0m\u001b[1;33m\u001b[0m\u001b[0m\n",
      "\u001b[1;32mC:\\Users\\alejandro\\Anaconda3\\envs\\DataAnalisis\\lib\\site-packages\\pandas\\io\\parsers.pyc\u001b[0m in \u001b[0;36m_read\u001b[1;34m(filepath_or_buffer, kwds)\u001b[0m\n\u001b[0;32m    443\u001b[0m \u001b[1;33m\u001b[0m\u001b[0m\n\u001b[0;32m    444\u001b[0m     \u001b[1;31m# Create the parser.\u001b[0m\u001b[1;33m\u001b[0m\u001b[1;33m\u001b[0m\u001b[0m\n\u001b[1;32m--> 445\u001b[1;33m     \u001b[0mparser\u001b[0m \u001b[1;33m=\u001b[0m \u001b[0mTextFileReader\u001b[0m\u001b[1;33m(\u001b[0m\u001b[0mfilepath_or_buffer\u001b[0m\u001b[1;33m,\u001b[0m \u001b[1;33m**\u001b[0m\u001b[0mkwds\u001b[0m\u001b[1;33m)\u001b[0m\u001b[1;33m\u001b[0m\u001b[0m\n\u001b[0m\u001b[0;32m    446\u001b[0m \u001b[1;33m\u001b[0m\u001b[0m\n\u001b[0;32m    447\u001b[0m     \u001b[1;32mif\u001b[0m \u001b[0mchunksize\u001b[0m \u001b[1;32mor\u001b[0m \u001b[0miterator\u001b[0m\u001b[1;33m:\u001b[0m\u001b[1;33m\u001b[0m\u001b[0m\n",
      "\u001b[1;32mC:\\Users\\alejandro\\Anaconda3\\envs\\DataAnalisis\\lib\\site-packages\\pandas\\io\\parsers.pyc\u001b[0m in \u001b[0;36m__init__\u001b[1;34m(self, f, engine, **kwds)\u001b[0m\n\u001b[0;32m    812\u001b[0m             \u001b[0mself\u001b[0m\u001b[1;33m.\u001b[0m\u001b[0moptions\u001b[0m\u001b[1;33m[\u001b[0m\u001b[1;34m'has_index_names'\u001b[0m\u001b[1;33m]\u001b[0m \u001b[1;33m=\u001b[0m \u001b[0mkwds\u001b[0m\u001b[1;33m[\u001b[0m\u001b[1;34m'has_index_names'\u001b[0m\u001b[1;33m]\u001b[0m\u001b[1;33m\u001b[0m\u001b[0m\n\u001b[0;32m    813\u001b[0m \u001b[1;33m\u001b[0m\u001b[0m\n\u001b[1;32m--> 814\u001b[1;33m         \u001b[0mself\u001b[0m\u001b[1;33m.\u001b[0m\u001b[0m_make_engine\u001b[0m\u001b[1;33m(\u001b[0m\u001b[0mself\u001b[0m\u001b[1;33m.\u001b[0m\u001b[0mengine\u001b[0m\u001b[1;33m)\u001b[0m\u001b[1;33m\u001b[0m\u001b[0m\n\u001b[0m\u001b[0;32m    815\u001b[0m \u001b[1;33m\u001b[0m\u001b[0m\n\u001b[0;32m    816\u001b[0m     \u001b[1;32mdef\u001b[0m \u001b[0mclose\u001b[0m\u001b[1;33m(\u001b[0m\u001b[0mself\u001b[0m\u001b[1;33m)\u001b[0m\u001b[1;33m:\u001b[0m\u001b[1;33m\u001b[0m\u001b[0m\n",
      "\u001b[1;32mC:\\Users\\alejandro\\Anaconda3\\envs\\DataAnalisis\\lib\\site-packages\\pandas\\io\\parsers.pyc\u001b[0m in \u001b[0;36m_make_engine\u001b[1;34m(self, engine)\u001b[0m\n\u001b[0;32m   1043\u001b[0m     \u001b[1;32mdef\u001b[0m \u001b[0m_make_engine\u001b[0m\u001b[1;33m(\u001b[0m\u001b[0mself\u001b[0m\u001b[1;33m,\u001b[0m \u001b[0mengine\u001b[0m\u001b[1;33m=\u001b[0m\u001b[1;34m'c'\u001b[0m\u001b[1;33m)\u001b[0m\u001b[1;33m:\u001b[0m\u001b[1;33m\u001b[0m\u001b[0m\n\u001b[0;32m   1044\u001b[0m         \u001b[1;32mif\u001b[0m \u001b[0mengine\u001b[0m \u001b[1;33m==\u001b[0m \u001b[1;34m'c'\u001b[0m\u001b[1;33m:\u001b[0m\u001b[1;33m\u001b[0m\u001b[0m\n\u001b[1;32m-> 1045\u001b[1;33m             \u001b[0mself\u001b[0m\u001b[1;33m.\u001b[0m\u001b[0m_engine\u001b[0m \u001b[1;33m=\u001b[0m \u001b[0mCParserWrapper\u001b[0m\u001b[1;33m(\u001b[0m\u001b[0mself\u001b[0m\u001b[1;33m.\u001b[0m\u001b[0mf\u001b[0m\u001b[1;33m,\u001b[0m \u001b[1;33m**\u001b[0m\u001b[0mself\u001b[0m\u001b[1;33m.\u001b[0m\u001b[0moptions\u001b[0m\u001b[1;33m)\u001b[0m\u001b[1;33m\u001b[0m\u001b[0m\n\u001b[0m\u001b[0;32m   1046\u001b[0m         \u001b[1;32melse\u001b[0m\u001b[1;33m:\u001b[0m\u001b[1;33m\u001b[0m\u001b[0m\n\u001b[0;32m   1047\u001b[0m             \u001b[1;32mif\u001b[0m \u001b[0mengine\u001b[0m \u001b[1;33m==\u001b[0m \u001b[1;34m'python'\u001b[0m\u001b[1;33m:\u001b[0m\u001b[1;33m\u001b[0m\u001b[0m\n",
      "\u001b[1;32mC:\\Users\\alejandro\\Anaconda3\\envs\\DataAnalisis\\lib\\site-packages\\pandas\\io\\parsers.pyc\u001b[0m in \u001b[0;36m__init__\u001b[1;34m(self, src, **kwds)\u001b[0m\n\u001b[0;32m   1682\u001b[0m         \u001b[0mkwds\u001b[0m\u001b[1;33m[\u001b[0m\u001b[1;34m'allow_leading_cols'\u001b[0m\u001b[1;33m]\u001b[0m \u001b[1;33m=\u001b[0m \u001b[0mself\u001b[0m\u001b[1;33m.\u001b[0m\u001b[0mindex_col\u001b[0m \u001b[1;32mis\u001b[0m \u001b[1;32mnot\u001b[0m \u001b[0mFalse\u001b[0m\u001b[1;33m\u001b[0m\u001b[0m\n\u001b[0;32m   1683\u001b[0m \u001b[1;33m\u001b[0m\u001b[0m\n\u001b[1;32m-> 1684\u001b[1;33m         \u001b[0mself\u001b[0m\u001b[1;33m.\u001b[0m\u001b[0m_reader\u001b[0m \u001b[1;33m=\u001b[0m \u001b[0mparsers\u001b[0m\u001b[1;33m.\u001b[0m\u001b[0mTextReader\u001b[0m\u001b[1;33m(\u001b[0m\u001b[0msrc\u001b[0m\u001b[1;33m,\u001b[0m \u001b[1;33m**\u001b[0m\u001b[0mkwds\u001b[0m\u001b[1;33m)\u001b[0m\u001b[1;33m\u001b[0m\u001b[0m\n\u001b[0m\u001b[0;32m   1685\u001b[0m \u001b[1;33m\u001b[0m\u001b[0m\n\u001b[0;32m   1686\u001b[0m         \u001b[1;31m# XXX\u001b[0m\u001b[1;33m\u001b[0m\u001b[1;33m\u001b[0m\u001b[0m\n",
      "\u001b[1;32mpandas/_libs/parsers.pyx\u001b[0m in \u001b[0;36mpandas._libs.parsers.TextReader.__cinit__\u001b[1;34m()\u001b[0m\n",
      "\u001b[1;32mpandas/_libs/parsers.pyx\u001b[0m in \u001b[0;36mpandas._libs.parsers.TextReader._setup_parser_source\u001b[1;34m()\u001b[0m\n",
      "\u001b[1;31mIOError\u001b[0m: File samsungData.csv does not exist"
     ],
     "output_type": "error"
    }
   ],
   "source": [
    "df=pd.read_csv('samsungData.csv')"
   ]
  },
  {
   "cell_type": "code",
   "execution_count": 46,
   "metadata": {
    "scrolled": false,
    "collapsed": true
   },
   "outputs": [
    {
     "name": "stdout",
     "output_type": "stream",
     "text": [
      "Index(['Unnamed: 0', 'tBodyAcc-mean()-X', 'tBodyAcc-mean()-Y',\n",
      "       'tBodyAcc-mean()-Z', 'tBodyAcc-std()-X', 'tBodyAcc-std()-Y',\n",
      "       'tBodyAcc-std()-Z', 'tBodyAcc-mad()-X', 'tBodyAcc-mad()-Y',\n",
      "       'tBodyAcc-mad()-Z',\n",
      "       ...\n",
      "       'fBodyBodyGyroJerkMag-kurtosis()', 'angle(tBodyAccMean,gravity)',\n",
      "       'angle(tBodyAccJerkMean),gravityMean)',\n",
      "       'angle(tBodyGyroMean,gravityMean)',\n",
      "       'angle(tBodyGyroJerkMean,gravityMean)', 'angle(X,gravityMean)',\n",
      "       'angle(Y,gravityMean)', 'angle(Z,gravityMean)', 'subject', 'activity'],\n",
      "      dtype='object', length=564)\n"
     ]
    }
   ],
   "source": [
    "pprint(df.columns)"
   ]
  },
  {
   "cell_type": "code",
   "execution_count": null,
   "metadata": {
    "collapsed": true
   },
   "outputs": [
    {
     "data": {
      "text/plain": [
       "array([ 0.01401481,  0.02744944,  0.0294804 ,  0.03336525,  0.04784451,\n",
       "        0.05021557,  0.07793022,  0.08703603,  0.09522736,  0.10714628,\n",
       "        0.17132667,  0.17316978,  0.18332074,  0.1896138 ,  0.200939  ,\n",
       "        0.20525705,  0.20934812,  0.2247275 ,  0.24926707,  0.24927935,\n",
       "        0.25607419,  0.26667914,  0.27322857,  0.28226497,  0.28761462,\n",
       "        0.30302768,  0.30559187,  0.30591571,  0.31109792,  0.3146554 ,\n",
       "        0.32066081,  0.33699481,  0.34980063,  0.35318643,  0.35732758,\n",
       "        0.36317436,  0.3645417 ,  0.38480895,  0.39056311,  0.3953925 ,\n",
       "        0.40143072,  0.41582409,  0.44183395,  0.44968689,  0.48281205,\n",
       "        0.50488601,  0.51177069,  0.53475157,  0.54061229,  0.54320587,\n",
       "        0.56184592,  0.57196152,  0.60663159,  0.6095456 ,  0.62054201,\n",
       "        0.62309842,  0.62487727,  0.65120528,  0.65407651,  0.6693949 ,\n",
       "        0.67358197,  0.68995285,  0.69970451,  0.70995518,  0.71103207,\n",
       "        0.73731031,  0.74655555,  0.76033025,  0.77381204,  0.77511619,\n",
       "        0.77958132,  0.78101581,  0.78633808,  0.78683227,  0.78799678,\n",
       "        0.78964873,  0.79215947,  0.79517954,  0.79666881,  0.81451946,\n",
       "        0.83459611,  0.85710774,  0.86440841,  0.86862451,  0.88560326,\n",
       "        0.90496402,  0.92495901,  0.93229504,  0.93820467,  0.9433809 ,\n",
       "        0.9522395 ,  0.95422162,  0.95830915,  0.95864115,  0.96428918,\n",
       "        0.9672006 ,  0.97937582,  0.98970124,  0.99887062,  0.99984333])"
      ]
     },
     "execution_count": 33,
     "metadata": {},
     "output_type": "execute_result"
    }
   ],
   "source": [
    "stats.norm.cdf(np.sort(data))"
   ]
  },
  {
   "cell_type": "code",
   "execution_count": null,
   "metadata": {},
   "outputs": [],
   "source": []
  }
 ],
 "metadata": {
  "kernelspec": {
   "display_name": "Python 3",
   "language": "python",
   "name": "python3"
  },
  "language_info": {
   "codemirror_mode": {
    "name": "ipython",
    "version": 3
   },
   "file_extension": ".py",
   "mimetype": "text/x-python",
   "name": "python",
   "nbconvert_exporter": "python",
   "pygments_lexer": "ipython3",
   "version": "3.6.3"
  }
 },
 "nbformat": 4,
 "nbformat_minor": 1
}
